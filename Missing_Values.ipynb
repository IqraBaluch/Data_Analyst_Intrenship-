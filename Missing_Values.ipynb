{
 "cells": [
  {
   "cell_type": "markdown",
   "metadata": {},
   "source": [
    "# Missing Values"
   ]
  },
  {
   "cell_type": "code",
   "execution_count": 1,
   "metadata": {},
   "outputs": [],
   "source": [
    "# import lib\n",
    "import pandas as pd"
   ]
  },
  {
   "cell_type": "code",
   "execution_count": 2,
   "metadata": {},
   "outputs": [],
   "source": [
    "shop = pd.read_csv('Desktop/Superstore_Sales_Dataset.csv')"
   ]
  },
  {
   "cell_type": "code",
   "execution_count": 3,
   "metadata": {},
   "outputs": [
    {
     "name": "stdout",
     "output_type": "stream",
     "text": [
      "   Row_ID        Order_ID  Order_Date   Ship_Date       Ship+Mode Customer_ID  \\\n",
      "0       1  CA-2017-152156   8/11/2017  11/11/2017    Second Class    CG-12520   \n",
      "1       2  CA-2017-152156   8/11/2017  11/11/2017    Second Class    CG-12520   \n",
      "2       3  CA-2017-138688   12/6/2017  16/06/2017    Second Class    DV-13045   \n",
      "3       4  US-2016-108966  11/10/2016  18/10/2016  Standard Class    SO-20335   \n",
      "4       5  US-2016-108966  11/10/2016  18/10/2016  Standard Class    SO-20335   \n",
      "\n",
      "     Customer_Name    Segment        Country             City       State  \\\n",
      "0      Claire Gute   Consumer  United States        Henderson    Kentucky   \n",
      "1      Claire Gute   Consumer  United States        Henderson    Kentucky   \n",
      "2  Darrin Van Huff  Corporate  United States      Los Angeles  California   \n",
      "3   Sean O'Donnell   Consumer  United States  Fort Lauderdale     Florida   \n",
      "4   Sean O'Donnell   Consumer  United States  Fort Lauderdale     Florida   \n",
      "\n",
      "   Postal_Code Region       Product_ID         Category Sub_Category  \\\n",
      "0      42420.0  South  FUR-BO-10001798        Furniture    Bookcases   \n",
      "1      42420.0  South  FUR-CH-10000454        Furniture       Chairs   \n",
      "2      90036.0   West  OFF-LA-10000240  Office Supplies       Labels   \n",
      "3      33311.0  South  FUR-TA-10000577        Furniture       Tables   \n",
      "4      33311.0  South  OFF-ST-10000760  Office Supplies      Storage   \n",
      "\n",
      "                                        Product_Name     Sales  \n",
      "0                  Bush Somerset Collection Bookcase  261.9600  \n",
      "1  Hon Deluxe Fabric Upholstered Stacking Chairs,...  731.9400  \n",
      "2  Self-Adhesive Address Labels for Typewriters b...   14.6200  \n",
      "3      Bretford CR4500 Series Slim Rectangular Table  957.5775  \n",
      "4                     Eldon Fold 'N Roll Cart System   22.3680  \n"
     ]
    }
   ],
   "source": [
    "print(shop.head())"
   ]
  },
  {
   "cell_type": "markdown",
   "metadata": {},
   "source": [
    "# Finding missing values"
   ]
  },
  {
   "cell_type": "markdown",
   "metadata": {},
   "source": [
    "# Check individual values for missing values"
   ]
  },
  {
   "cell_type": "code",
   "execution_count": 5,
   "metadata": {},
   "outputs": [
    {
     "name": "stdout",
     "output_type": "stream",
     "text": [
      "      Row_ID  Order_ID  Order_Date  Ship_Date  Ship+Mode  Customer_ID  \\\n",
      "0      False     False       False      False      False        False   \n",
      "1      False     False       False      False      False        False   \n",
      "2      False     False       False      False      False        False   \n",
      "3      False     False       False      False      False        False   \n",
      "4      False     False       False      False      False        False   \n",
      "5      False     False       False      False      False        False   \n",
      "6      False     False       False      False      False        False   \n",
      "7      False     False       False      False      False        False   \n",
      "8      False     False       False      False      False        False   \n",
      "9      False     False       False      False      False        False   \n",
      "10     False     False       False      False      False        False   \n",
      "11     False     False       False      False      False        False   \n",
      "12     False     False       False      False      False        False   \n",
      "13     False     False       False      False      False        False   \n",
      "14     False     False       False      False      False        False   \n",
      "15     False     False       False      False      False        False   \n",
      "16     False     False       False      False      False        False   \n",
      "17     False     False       False      False      False        False   \n",
      "18     False     False       False      False      False        False   \n",
      "19     False     False       False      False      False        False   \n",
      "20     False     False       False      False      False        False   \n",
      "21     False     False       False      False      False        False   \n",
      "22     False     False       False      False      False        False   \n",
      "23     False     False       False      False      False        False   \n",
      "24     False     False       False      False      False        False   \n",
      "25     False     False       False      False      False        False   \n",
      "26     False     False       False      False      False        False   \n",
      "27     False     False       False      False      False        False   \n",
      "28     False     False       False      False      False        False   \n",
      "29     False     False       False      False      False        False   \n",
      "...      ...       ...         ...        ...        ...          ...   \n",
      "9770   False     False       False      False      False        False   \n",
      "9771   False     False       False      False      False        False   \n",
      "9772   False     False       False      False      False        False   \n",
      "9773   False     False       False      False      False        False   \n",
      "9774   False     False       False      False      False        False   \n",
      "9775   False     False       False      False      False        False   \n",
      "9776   False     False       False      False      False        False   \n",
      "9777   False     False       False      False      False        False   \n",
      "9778   False     False       False      False      False        False   \n",
      "9779   False     False       False      False      False        False   \n",
      "9780   False     False       False      False      False        False   \n",
      "9781   False     False       False      False      False        False   \n",
      "9782   False     False       False      False      False        False   \n",
      "9783   False     False       False      False      False        False   \n",
      "9784   False     False       False      False      False        False   \n",
      "9785   False     False       False      False      False        False   \n",
      "9786   False     False       False      False      False        False   \n",
      "9787   False     False       False      False      False        False   \n",
      "9788   False     False       False      False      False        False   \n",
      "9789   False     False       False      False      False        False   \n",
      "9790   False     False       False      False      False        False   \n",
      "9791   False     False       False      False      False        False   \n",
      "9792   False     False       False      False      False        False   \n",
      "9793   False     False       False      False      False        False   \n",
      "9794   False     False       False      False      False        False   \n",
      "9795   False     False       False      False      False        False   \n",
      "9796   False     False       False      False      False        False   \n",
      "9797   False     False       False      False      False        False   \n",
      "9798   False     False       False      False      False        False   \n",
      "9799   False     False       False      False      False        False   \n",
      "\n",
      "      Customer_Name  Segment  Country   City  State  Postal_Code  Region  \\\n",
      "0             False    False    False  False  False        False   False   \n",
      "1             False    False    False  False  False        False   False   \n",
      "2             False    False    False  False  False        False   False   \n",
      "3             False    False    False  False  False        False   False   \n",
      "4             False    False    False  False  False        False   False   \n",
      "5             False    False    False  False  False        False   False   \n",
      "6             False    False    False  False  False        False   False   \n",
      "7             False    False    False  False  False        False   False   \n",
      "8             False    False    False  False  False        False   False   \n",
      "9             False    False    False  False  False        False   False   \n",
      "10            False    False    False  False  False        False   False   \n",
      "11            False    False    False  False  False        False   False   \n",
      "12            False    False    False  False  False        False   False   \n",
      "13            False    False    False  False  False        False   False   \n",
      "14            False    False    False  False  False        False   False   \n",
      "15            False    False    False  False  False        False   False   \n",
      "16            False    False    False  False  False        False   False   \n",
      "17            False    False    False  False  False        False   False   \n",
      "18            False    False    False  False  False        False   False   \n",
      "19            False    False    False  False  False        False   False   \n",
      "20            False    False    False  False  False        False   False   \n",
      "21            False    False    False  False  False        False   False   \n",
      "22            False    False    False  False  False        False   False   \n",
      "23            False    False    False  False  False        False   False   \n",
      "24            False    False    False  False  False        False   False   \n",
      "25            False    False    False  False  False        False   False   \n",
      "26            False    False    False  False  False        False   False   \n",
      "27            False    False    False  False  False        False   False   \n",
      "28            False    False    False  False  False        False   False   \n",
      "29            False    False    False  False  False        False   False   \n",
      "...             ...      ...      ...    ...    ...          ...     ...   \n",
      "9770          False    False    False  False  False        False   False   \n",
      "9771          False    False    False  False  False        False   False   \n",
      "9772          False    False    False  False  False        False   False   \n",
      "9773          False    False    False  False  False        False   False   \n",
      "9774          False    False    False  False  False        False   False   \n",
      "9775          False    False    False  False  False        False   False   \n",
      "9776          False    False    False  False  False        False   False   \n",
      "9777          False    False    False  False  False        False   False   \n",
      "9778          False    False    False  False  False        False   False   \n",
      "9779          False    False    False  False  False        False   False   \n",
      "9780          False    False    False  False  False        False   False   \n",
      "9781          False    False    False  False  False        False   False   \n",
      "9782          False    False    False  False  False        False   False   \n",
      "9783          False    False    False  False  False        False   False   \n",
      "9784          False    False    False  False  False        False   False   \n",
      "9785          False    False    False  False  False        False   False   \n",
      "9786          False    False    False  False  False        False   False   \n",
      "9787          False    False    False  False  False        False   False   \n",
      "9788          False    False    False  False  False        False   False   \n",
      "9789          False    False    False  False  False        False   False   \n",
      "9790          False    False    False  False  False        False   False   \n",
      "9791          False    False    False  False  False        False   False   \n",
      "9792          False    False    False  False  False        False   False   \n",
      "9793          False    False    False  False  False        False   False   \n",
      "9794          False    False    False  False  False        False   False   \n",
      "9795          False    False    False  False  False        False   False   \n",
      "9796          False    False    False  False  False        False   False   \n",
      "9797          False    False    False  False  False        False   False   \n",
      "9798          False    False    False  False  False        False   False   \n",
      "9799          False    False    False  False  False        False   False   \n",
      "\n",
      "      Product_ID  Category  Sub_Category  Product_Name  Sales  \n",
      "0          False     False         False         False  False  \n",
      "1          False     False         False         False  False  \n",
      "2          False     False         False         False  False  \n",
      "3          False     False         False         False  False  \n",
      "4          False     False         False         False  False  \n",
      "5          False     False         False         False  False  \n",
      "6          False     False         False         False  False  \n",
      "7          False     False         False         False  False  \n",
      "8          False     False         False         False  False  \n",
      "9          False     False         False         False  False  \n",
      "10         False     False         False         False  False  \n",
      "11         False     False         False         False  False  \n",
      "12         False     False         False         False  False  \n",
      "13         False     False         False         False  False  \n",
      "14         False     False         False         False  False  \n",
      "15         False     False         False         False  False  \n",
      "16         False     False         False         False  False  \n",
      "17         False     False         False         False  False  \n",
      "18         False     False         False         False  False  \n",
      "19         False     False         False         False  False  \n",
      "20         False     False         False         False  False  \n",
      "21         False     False         False         False  False  \n",
      "22         False     False         False         False  False  \n",
      "23         False     False         False         False  False  \n",
      "24         False     False         False         False  False  \n",
      "25         False     False         False         False  False  \n",
      "26         False     False         False         False  False  \n",
      "27         False     False         False         False  False  \n",
      "28         False     False         False         False  False  \n",
      "29         False     False         False         False  False  \n",
      "...          ...       ...           ...           ...    ...  \n",
      "9770       False     False         False         False  False  \n",
      "9771       False     False         False         False  False  \n",
      "9772       False     False         False         False  False  \n",
      "9773       False     False         False         False  False  \n",
      "9774       False     False         False         False  False  \n",
      "9775       False     False         False         False  False  \n",
      "9776       False     False         False         False  False  \n",
      "9777       False     False         False         False  False  \n",
      "9778       False     False         False         False  False  \n",
      "9779       False     False         False         False  False  \n",
      "9780       False     False         False         False  False  \n",
      "9781       False     False         False         False  False  \n",
      "9782       False     False         False         False  False  \n",
      "9783       False     False         False         False  False  \n",
      "9784       False     False         False         False  False  \n",
      "9785       False     False         False         False  False  \n",
      "9786       False     False         False         False  False  \n",
      "9787       False     False         False         False  False  \n",
      "9788       False     False         False         False  False  \n",
      "9789       False     False         False         False  False  \n",
      "9790       False     False         False         False  False  \n",
      "9791       False     False         False         False  False  \n",
      "9792       False     False         False         False  False  \n",
      "9793       False     False         False         False  False  \n",
      "9794       False     False         False         False  False  \n",
      "9795       False     False         False         False  False  \n",
      "9796       False     False         False         False  False  \n",
      "9797       False     False         False         False  False  \n",
      "9798       False     False         False         False  False  \n",
      "9799       False     False         False         False  False  \n",
      "\n",
      "[9800 rows x 18 columns]\n"
     ]
    }
   ],
   "source": [
    "\n",
    "print(shop.isna())"
   ]
  },
  {
   "cell_type": "markdown",
   "metadata": {},
   "source": [
    "# Check each column for missing values"
   ]
  },
  {
   "cell_type": "code",
   "execution_count": 7,
   "metadata": {},
   "outputs": [
    {
     "name": "stdout",
     "output_type": "stream",
     "text": [
      "Row_ID           False\n",
      "Order_ID         False\n",
      "Order_Date       False\n",
      "Ship_Date        False\n",
      "Ship+Mode        False\n",
      "Customer_ID      False\n",
      "Customer_Name    False\n",
      "Segment          False\n",
      "Country          False\n",
      "City             False\n",
      "State            False\n",
      "Postal_Code       True\n",
      "Region           False\n",
      "Product_ID       False\n",
      "Category         False\n",
      "Sub_Category     False\n",
      "Product_Name     False\n",
      "Sales            False\n",
      "dtype: bool\n"
     ]
    }
   ],
   "source": [
    "print(shop.isna().any())"
   ]
  },
  {
   "cell_type": "markdown",
   "metadata": {},
   "source": [
    "# Bar plot of missing values by variable"
   ]
  },
  {
   "cell_type": "code",
   "execution_count": 9,
   "metadata": {},
   "outputs": [],
   "source": [
    "import matplotlib.pyplot as plt"
   ]
  },
  {
   "cell_type": "code",
   "execution_count": 11,
   "metadata": {},
   "outputs": [
    {
     "data": {
      "image/png": "[encoded data removed]",
      "text/plain": [
       "<Figure size 432x288 with 1 Axes>"
      ]
     },
     "metadata": {
      "needs_background": "light"
     },
     "output_type": "display_data"
    }
   ],
   "source": [
    "shop.isna().sum().plot(kind = 'bar')\n",
    "plt.show()"
   ]
  },
  {
   "cell_type": "markdown",
   "metadata": {},
   "source": [
    "# Removing missing values"
   ]
  },
  {
   "cell_type": "markdown",
   "metadata": {},
   "source": [
    "##  Remove rows with missing values"
   ]
  },
  {
   "cell_type": "code",
   "execution_count": 23,
   "metadata": {},
   "outputs": [],
   "source": [
    "shop_comp = shop.dropna()"
   ]
  },
  {
   "cell_type": "markdown",
   "metadata": {},
   "source": [
    "# Check if any columns contain missing values"
   ]
  },
  {
   "cell_type": "code",
   "execution_count": 26,
   "metadata": {},
   "outputs": [
    {
     "name": "stdout",
     "output_type": "stream",
     "text": [
      "Row_ID           False\n",
      "Order_ID         False\n",
      "Order_Date       False\n",
      "Ship_Date        False\n",
      "Ship+Mode        False\n",
      "Customer_ID      False\n",
      "Customer_Name    False\n",
      "Segment          False\n",
      "Country          False\n",
      "City             False\n",
      "State            False\n",
      "Postal_Code      False\n",
      "Region           False\n",
      "Product_ID       False\n",
      "Category         False\n",
      "Sub_Category     False\n",
      "Product_Name     False\n",
      "Sales            False\n",
      "dtype: bool\n"
     ]
    }
   ],
   "source": [
    "print(shop_comp.isna().any())"
   ]
  },
  {
   "cell_type": "markdown",
   "metadata": {},
   "source": [
    "# Replacing missing values\n",
    " replacing missing values can affect the distribution of a variable using histograms. You can plot histograms for multiple variables at a time as follows:\n",
    "<br>\n",
    "dogs[[\"height_cm\", \"weight_kg\"]].hist()\n",
    "\n"
   ]
  },
  {
   "cell_type": "markdown",
   "metadata": {},
   "source": [
    "# List the columns with missing values"
   ]
  },
  {
   "cell_type": "code",
   "execution_count": 33,
   "metadata": {},
   "outputs": [],
   "source": [
    "column_with_missing = ['Postal_Code']"
   ]
  },
  {
   "cell_type": "markdown",
   "metadata": {},
   "source": [
    "# Create histograms showing the distributions cols_with_missing\n"
   ]
  },
  {
   "cell_type": "code",
   "execution_count": 36,
   "metadata": {},
   "outputs": [
    {
     "data": {
      "image/png": "[encoded data removed]",
      "text/plain": [
       "<Figure size 432x288 with 1 Axes>"
      ]
     },
     "metadata": {
      "needs_background": "light"
     },
     "output_type": "display_data"
    }
   ],
   "source": [
    "column_with_missing  = shop['Postal_Code'].hist()\n",
    "plt.show()"
   ]
  },
  {
   "cell_type": "markdown",
   "metadata": {},
   "source": [
    "# Fill in missing values with 0"
   ]
  },
  {
   "cell_type": "code",
   "execution_count": 49,
   "metadata": {},
   "outputs": [
    {
     "data": {
      "image/png": "[encoded data removed]",
      "text/plain": [
       "<Figure size 432x288 with 1 Axes>"
      ]
     },
     "metadata": {
      "needs_background": "light"
     },
     "output_type": "display_data"
    }
   ],
   "source": [
    "column_with_missing  = shop['Postal_Code'].hist()\n",
    "\n",
    "val = shop['Postal_Code'].fillna(0)"
   ]
  },
  {
   "cell_type": "markdown",
   "metadata": {},
   "source": [
    "\n",
    "# Create histograms of the filled columns"
   ]
  },
  {
   "cell_type": "code",
   "execution_count": 45,
   "metadata": {},
   "outputs": [
    {
     "data": {
      "image/png": "[encoded data removed]",
      "text/plain": [
       "<Figure size 432x288 with 1 Axes>"
      ]
     },
     "metadata": {
      "needs_background": "light"
     },
     "output_type": "display_data"
    }
   ],
   "source": [
    "val.hist()\n",
    "plt.show()"
   ]
  },
  {
   "cell_type": "code",
   "execution_count": null,
   "metadata": {},
   "outputs": [],
   "source": []
  }
 ],
 "metadata": {
  "kernelspec": {
   "display_name": "Python 3",
   "language": "python",
   "name": "python3"
  },
  "language_info": {
   "codemirror_mode": {
    "name": "ipython",
    "version": 3
   },
   "file_extension": ".py",
   "mimetype": "text/x-python",
   "name": "python",
   "nbconvert_exporter": "python",
   "pygments_lexer": "ipython3",
   "version": "3.7.0"
  }
 },
 "nbformat": 4,
 "nbformat_minor": 2
}
