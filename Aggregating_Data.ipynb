{
 "cells": [
  {
   "cell_type": "markdown",
   "metadata": {},
   "source": [
    "# Agrigating Data"
   ]
  },
  {
   "cell_type": "markdown",
   "metadata": {},
   "source": [
    "***"
   ]
  },
  {
   "cell_type": "markdown",
   "metadata": {},
   "source": [
    "# Summary Statistics \n",
    "mean, median, minimum, maximum, and standard deviation are summary statistics. \n"
   ]
  },
  {
   "cell_type": "markdown",
   "metadata": {},
   "source": [
    "# Python Package\n",
    "import libraray"
   ]
  },
  {
   "cell_type": "code",
   "execution_count": 1,
   "metadata": {},
   "outputs": [],
   "source": [
    "import pandas as pd"
   ]
  },
  {
   "cell_type": "markdown",
   "metadata": {},
   "source": [
    "# Access tabular data by pandas"
   ]
  },
  {
   "cell_type": "code",
   "execution_count": 2,
   "metadata": {},
   "outputs": [],
   "source": [
    "superstore = pd.read_csv(\"Desktop/Superstore_Sales_Dataset.csv\")"
   ]
  },
  {
   "cell_type": "code",
   "execution_count": 3,
   "metadata": {},
   "outputs": [
    {
     "name": "stdout",
     "output_type": "stream",
     "text": [
      "   Row_ID        Order_ID  Order_Date   Ship_Date       Ship+Mode Customer_ID  \\\n",
      "0       1  CA-2017-152156   8/11/2017  11/11/2017    Second Class    CG-12520   \n",
      "1       2  CA-2017-152156   8/11/2017  11/11/2017    Second Class    CG-12520   \n",
      "2       3  CA-2017-138688   12/6/2017  16/06/2017    Second Class    DV-13045   \n",
      "3       4  US-2016-108966  11/10/2016  18/10/2016  Standard Class    SO-20335   \n",
      "4       5  US-2016-108966  11/10/2016  18/10/2016  Standard Class    SO-20335   \n",
      "5       6  CA-2015-115812    9/6/2015  14/06/2015  Standard Class    BH-11710   \n",
      "6       7  CA-2015-115812    9/6/2015  14/06/2015  Standard Class    BH-11710   \n",
      "7       8  CA-2015-115812    9/6/2015  14/06/2015  Standard Class    BH-11710   \n",
      "8       9  CA-2015-115812    9/6/2015  14/06/2015  Standard Class    BH-11710   \n",
      "9      10  CA-2015-115812    9/6/2015  14/06/2015  Standard Class    BH-11710   \n",
      "\n",
      "     Customer_Name    Segment        Country             City       State  \\\n",
      "0      Claire Gute   Consumer  United States        Henderson    Kentucky   \n",
      "1      Claire Gute   Consumer  United States        Henderson    Kentucky   \n",
      "2  Darrin Van Huff  Corporate  United States      Los Angeles  California   \n",
      "3   Sean O'Donnell   Consumer  United States  Fort Lauderdale     Florida   \n",
      "4   Sean O'Donnell   Consumer  United States  Fort Lauderdale     Florida   \n",
      "5  Brosina Hoffman   Consumer  United States      Los Angeles  California   \n",
      "6  Brosina Hoffman   Consumer  United States      Los Angeles  California   \n",
      "7  Brosina Hoffman   Consumer  United States      Los Angeles  California   \n",
      "8  Brosina Hoffman   Consumer  United States      Los Angeles  California   \n",
      "9  Brosina Hoffman   Consumer  United States      Los Angeles  California   \n",
      "\n",
      "   Postal_Code Region       Product_ID         Category Sub_Category  \\\n",
      "0      42420.0  South  FUR-BO-10001798        Furniture    Bookcases   \n",
      "1      42420.0  South  FUR-CH-10000454        Furniture       Chairs   \n",
      "2      90036.0   West  OFF-LA-10000240  Office Supplies       Labels   \n",
      "3      33311.0  South  FUR-TA-10000577        Furniture       Tables   \n",
      "4      33311.0  South  OFF-ST-10000760  Office Supplies      Storage   \n",
      "5      90032.0   West  FUR-FU-10001487        Furniture  Furnishings   \n",
      "6      90032.0   West  OFF-AR-10002833  Office Supplies          Art   \n",
      "7      90032.0   West  TEC-PH-10002275       Technology       Phones   \n",
      "8      90032.0   West  OFF-BI-10003910  Office Supplies      Binders   \n",
      "9      90032.0   West  OFF-AP-10002892  Office Supplies   Appliances   \n",
      "\n",
      "                                        Product_Name     Sales  \n",
      "0                  Bush Somerset Collection Bookcase  261.9600  \n",
      "1  Hon Deluxe Fabric Upholstered Stacking Chairs,...  731.9400  \n",
      "2  Self-Adhesive Address Labels for Typewriters b...   14.6200  \n",
      "3      Bretford CR4500 Series Slim Rectangular Table  957.5775  \n",
      "4                     Eldon Fold 'N Roll Cart System   22.3680  \n",
      "5  Eldon Expressions Wood and Plastic Desk Access...   48.8600  \n",
      "6                                         Newell 322    7.2800  \n",
      "7                     Mitel 5320 IP Phone VoIP phone  907.1520  \n",
      "8  DXL Angle-View Binders with Locking Rings by S...   18.5040  \n",
      "9                   Belkin F5C206VTEL 6 Outlet Surge  114.9000  \n"
     ]
    }
   ],
   "source": [
    "print(superstore.head(10))"
   ]
  },
  {
   "cell_type": "markdown",
   "metadata": {},
   "source": [
    "# Inspecting Dataset"
   ]
  },
  {
   "cell_type": "code",
   "execution_count": 4,
   "metadata": {},
   "outputs": [
    {
     "name": "stdout",
     "output_type": "stream",
     "text": [
      "   Row_ID        Order_ID  Order_Date   Ship_Date       Ship+Mode Customer_ID  \\\n",
      "0       1  CA-2017-152156   8/11/2017  11/11/2017    Second Class    CG-12520   \n",
      "1       2  CA-2017-152156   8/11/2017  11/11/2017    Second Class    CG-12520   \n",
      "2       3  CA-2017-138688   12/6/2017  16/06/2017    Second Class    DV-13045   \n",
      "3       4  US-2016-108966  11/10/2016  18/10/2016  Standard Class    SO-20335   \n",
      "4       5  US-2016-108966  11/10/2016  18/10/2016  Standard Class    SO-20335   \n",
      "\n",
      "     Customer_Name    Segment        Country             City       State  \\\n",
      "0      Claire Gute   Consumer  United States        Henderson    Kentucky   \n",
      "1      Claire Gute   Consumer  United States        Henderson    Kentucky   \n",
      "2  Darrin Van Huff  Corporate  United States      Los Angeles  California   \n",
      "3   Sean O'Donnell   Consumer  United States  Fort Lauderdale     Florida   \n",
      "4   Sean O'Donnell   Consumer  United States  Fort Lauderdale     Florida   \n",
      "\n",
      "   Postal_Code Region       Product_ID         Category Sub_Category  \\\n",
      "0      42420.0  South  FUR-BO-10001798        Furniture    Bookcases   \n",
      "1      42420.0  South  FUR-CH-10000454        Furniture       Chairs   \n",
      "2      90036.0   West  OFF-LA-10000240  Office Supplies       Labels   \n",
      "3      33311.0  South  FUR-TA-10000577        Furniture       Tables   \n",
      "4      33311.0  South  OFF-ST-10000760  Office Supplies      Storage   \n",
      "\n",
      "                                        Product_Name     Sales  \n",
      "0                  Bush Somerset Collection Bookcase  261.9600  \n",
      "1  Hon Deluxe Fabric Upholstered Stacking Chairs,...  731.9400  \n",
      "2  Self-Adhesive Address Labels for Typewriters b...   14.6200  \n",
      "3      Bretford CR4500 Series Slim Rectangular Table  957.5775  \n",
      "4                     Eldon Fold 'N Roll Cart System   22.3680  \n"
     ]
    }
   ],
   "source": [
    "print(superstore.head())"
   ]
  },
  {
   "cell_type": "code",
   "execution_count": 5,
   "metadata": {},
   "outputs": [
    {
     "name": "stdout",
     "output_type": "stream",
     "text": [
      "<class 'pandas.core.frame.DataFrame'>\n",
      "RangeIndex: 9800 entries, 0 to 9799\n",
      "Data columns (total 18 columns):\n",
      "Row_ID           9800 non-null int64\n",
      "Order_ID         9800 non-null object\n",
      "Order_Date       9800 non-null object\n",
      "Ship_Date        9800 non-null object\n",
      "Ship+Mode        9800 non-null object\n",
      "Customer_ID      9800 non-null object\n",
      "Customer_Name    9800 non-null object\n",
      "Segment          9800 non-null object\n",
      "Country          9800 non-null object\n",
      "City             9800 non-null object\n",
      "State            9800 non-null object\n",
      "Postal_Code      9789 non-null float64\n",
      "Region           9800 non-null object\n",
      "Product_ID       9800 non-null object\n",
      "Category         9800 non-null object\n",
      "Sub_Category     9800 non-null object\n",
      "Product_Name     9800 non-null object\n",
      "Sales            9800 non-null float64\n",
      "dtypes: float64(2), int64(1), object(15)\n",
      "memory usage: 1.3+ MB\n",
      "None\n"
     ]
    }
   ],
   "source": [
    "print(superstore.info())"
   ]
  },
  {
   "cell_type": "code",
   "execution_count": 6,
   "metadata": {},
   "outputs": [
    {
     "name": "stdout",
     "output_type": "stream",
     "text": [
      "(9800, 18)\n"
     ]
    }
   ],
   "source": [
    "print(superstore.shape)"
   ]
  },
  {
   "cell_type": "code",
   "execution_count": 10,
   "metadata": {},
   "outputs": [
    {
     "name": "stdout",
     "output_type": "stream",
     "text": [
      "            Row_ID   Postal_Code         Sales\n",
      "count  9800.000000   9789.000000   9800.000000\n",
      "mean   4900.500000  55273.322403    230.769059\n",
      "std    2829.160653  32041.223413    626.651875\n",
      "min       1.000000   1040.000000      0.444000\n",
      "25%    2450.750000  23223.000000     17.248000\n",
      "50%    4900.500000  58103.000000     54.490000\n",
      "75%    7350.250000  90008.000000    210.605000\n",
      "max    9800.000000  99301.000000  22638.480000\n"
     ]
    }
   ],
   "source": [
    "print(superstore.describe())"
   ]
  },
  {
   "cell_type": "code",
   "execution_count": 12,
   "metadata": {},
   "outputs": [
    {
     "name": "stdout",
     "output_type": "stream",
     "text": [
      "Index(['Row_ID', 'Order_ID', 'Order_Date', 'Ship_Date', 'Ship+Mode',\n",
      "       'Customer_ID', 'Customer_Name', 'Segment', 'Country', 'City', 'State',\n",
      "       'Postal_Code', 'Region', 'Product_ID', 'Category', 'Sub_Category',\n",
      "       'Product_Name', 'Sales'],\n",
      "      dtype='object')\n"
     ]
    }
   ],
   "source": [
    "print(superstore.columns)"
   ]
  },
  {
   "cell_type": "markdown",
   "metadata": {},
   "source": [
    "# Mean and median\n",
    "\n",
    "# Print the mean of the sales column."
   ]
  },
  {
   "cell_type": "code",
   "execution_count": 13,
   "metadata": {},
   "outputs": [
    {
     "name": "stdout",
     "output_type": "stream",
     "text": [
      "230.76905945917886\n"
     ]
    }
   ],
   "source": [
    "#mean is center of data\n",
    "print(superstore['Sales'].mean())"
   ]
  },
  {
   "cell_type": "markdown",
   "metadata": {},
   "source": [
    "# Print the median of the sales column."
   ]
  },
  {
   "cell_type": "code",
   "execution_count": 15,
   "metadata": {},
   "outputs": [
    {
     "name": "stdout",
     "output_type": "stream",
     "text": [
      "54.489999999999995\n"
     ]
    }
   ],
   "source": [
    "# The middle number; found by ordering all data points and picking out the one in the middle \n",
    "#(or if there are two middle numbers, taking the mean of those\n",
    "print(superstore['Sales'].median())"
   ]
  },
  {
   "cell_type": "markdown",
   "metadata": {},
   "source": [
    "# Summarizing dates\n"
   ]
  },
  {
   "cell_type": "markdown",
   "metadata": {},
   "source": [
    "# Order_date"
   ]
  },
  {
   "cell_type": "markdown",
   "metadata": {},
   "source": [
    "## Print the maximum of the order date column.\n"
   ]
  },
  {
   "cell_type": "code",
   "execution_count": 27,
   "metadata": {},
   "outputs": [
    {
     "name": "stdout",
     "output_type": "stream",
     "text": [
      "9/9/2018\n"
     ]
    }
   ],
   "source": [
    "print(superstore[\"Order_Date\"].max())"
   ]
  },
  {
   "cell_type": "markdown",
   "metadata": {},
   "source": [
    "## Print the minimum of the order date column."
   ]
  },
  {
   "cell_type": "code",
   "execution_count": 28,
   "metadata": {},
   "outputs": [
    {
     "name": "stdout",
     "output_type": "stream",
     "text": [
      "1/1/2018\n"
     ]
    }
   ],
   "source": [
    "print(superstore['Order_Date'].min())"
   ]
  },
  {
   "cell_type": "markdown",
   "metadata": {},
   "source": [
    "# Ship_Date"
   ]
  },
  {
   "cell_type": "code",
   "execution_count": 29,
   "metadata": {},
   "outputs": [
    {
     "name": "stdout",
     "output_type": "stream",
     "text": [
      "9/9/2018\n"
     ]
    }
   ],
   "source": [
    "print(superstore[\"Ship_Date\"].max())"
   ]
  },
  {
   "cell_type": "code",
   "execution_count": 30,
   "metadata": {},
   "outputs": [
    {
     "name": "stdout",
     "output_type": "stream",
     "text": [
      "1/1/2016\n"
     ]
    }
   ],
   "source": [
    "print(superstore[\"Ship_Date\"].min())"
   ]
  },
  {
   "cell_type": "markdown",
   "metadata": {},
   "source": [
    "# .agg()\n",
    "\n",
    "The .agg() method allows you to apply your own custom functions to a DataFrame, as well as apply functions to more than one column of a DataFrame at once, making your aggregations super-efficient. For example,\n",
    "<br>\n",
    "df['column'].agg(function)"
   ]
  },
  {
   "cell_type": "markdown",
   "metadata": {},
   "source": [
    "n the custom function for this exercise, \"IQR\" is short for inter-quartile range, which is the 75th percentile minus the 25th percentile. It's an alternative to standard deviation that is helpful if your data contains outliers."
   ]
  },
  {
   "cell_type": "code",
   "execution_count": 13,
   "metadata": {},
   "outputs": [
    {
     "name": "stdout",
     "output_type": "stream",
     "text": [
      "193.35700000000003\n"
     ]
    }
   ],
   "source": [
    "# A custom IQR function\n",
    "def iqr(column):\n",
    "    return column.quantile(0.75) - column.quantile(0.25)\n",
    "    \n",
    "# Print IQR of the Sales column\n",
    "print(superstore[\"Sales\"].agg(iqr))"
   ]
  },
  {
   "cell_type": "markdown",
   "metadata": {},
   "source": [
    "# Cumulative statistics"
   ]
  },
  {
   "cell_type": "code",
   "execution_count": 14,
   "metadata": {},
   "outputs": [
    {
     "name": "stdout",
     "output_type": "stream",
     "text": [
      "      Row_ID        Order_ID Order_Date Ship_Date       Ship+Mode Customer_ID  \\\n",
      "4009    4010  CA-2018-144463   1/1/2018  5/1/2018  Standard Class    SC-20725   \n",
      "8069    8070  CA-2018-151750   1/1/2018  5/1/2018  Standard Class    JM-15250   \n",
      "6682    6683  CA-2018-154466   1/1/2018  2/1/2018     First Class    DP-13390   \n",
      "8070    8071  CA-2018-151750   1/1/2018  5/1/2018  Standard Class    JM-15250   \n",
      "8075    8076  CA-2018-151750   1/1/2018  5/1/2018  Standard Class    JM-15250   \n",
      "\n",
      "          Customer_Name      Segment        Country         City       State  \\\n",
      "4009  Steven Cartwright     Consumer  United States  Los Angeles  California   \n",
      "8069       Janet Martin     Consumer  United States   Huntsville       Texas   \n",
      "6682      Dennis Pardue  Home Office  United States     Franklin   Wisconsin   \n",
      "8070       Janet Martin     Consumer  United States   Huntsville       Texas   \n",
      "8075       Janet Martin     Consumer  United States   Huntsville       Texas   \n",
      "\n",
      "      Postal_Code   Region       Product_ID         Category Sub_Category  \\\n",
      "4009      90036.0     West  FUR-FU-10001215        Furniture  Furnishings   \n",
      "8069      77340.0  Central  OFF-ST-10002743  Office Supplies      Storage   \n",
      "6682      53132.0  Central  OFF-BI-10002012  Office Supplies      Binders   \n",
      "8070      77340.0  Central  FUR-FU-10002116        Furniture  Furnishings   \n",
      "8075      77340.0  Central  OFF-AP-10004708  Office Supplies   Appliances   \n",
      "\n",
      "                                           Product_Name    Sales  \n",
      "4009  Howard Miller 11-1/2\" Diameter Brentwood Wall ...  474.430  \n",
      "8069                      SAFCO Boltless Steel Shelving  454.560  \n",
      "6682            Wilson Jones Easy Flow II Sheet Lifters    3.600  \n",
      "8070  Tenex Carpeted, Granite-Look or Clear Contempo...  141.420  \n",
      "8075  Fellowes Superior 10 Outlet Split Surge Protector   15.224  \n"
     ]
    }
   ],
   "source": [
    "# Sort the rows of sale by the date column in ascending order.\n",
    "order_date = superstore.sort_values(\"Order_Date\")\n",
    "\n",
    "print(order_date.head())"
   ]
  },
  {
   "cell_type": "code",
   "execution_count": 17,
   "metadata": {},
   "outputs": [
    {
     "name": "stdout",
     "output_type": "stream",
     "text": [
      "0     261.9600\n",
      "1     993.9000\n",
      "2    1008.5200\n",
      "3    1966.0975\n",
      "4    1988.4655\n",
      "Name: Sales, dtype: float64\n"
     ]
    }
   ],
   "source": [
    "sales = superstore['Sales'].cumsum()\n",
    "print(sales.head())"
   ]
  },
  {
   "cell_type": "code",
   "execution_count": 18,
   "metadata": {},
   "outputs": [
    {
     "name": "stdout",
     "output_type": "stream",
     "text": [
      "0    261.9600\n",
      "1    731.9400\n",
      "2    731.9400\n",
      "3    957.5775\n",
      "4    957.5775\n",
      "Name: Sales, dtype: float64\n"
     ]
    }
   ],
   "source": [
    "sale = superstore['Sales'].cummax()\n",
    "print(sale.head())"
   ]
  },
  {
   "cell_type": "markdown",
   "metadata": {},
   "source": [
    "# Counting \n",
    "summarizing categorical data"
   ]
  },
  {
   "cell_type": "markdown",
   "metadata": {},
   "source": [
    "# Dropping duplicates\n",
    "Removing duplicates is an essential skill to get accurate counts because often, you don't want to count the same thing multiple times."
   ]
  },
  {
   "cell_type": "code",
   "execution_count": null,
   "metadata": {},
   "outputs": [],
   "source": []
  },
  {
   "cell_type": "code",
   "execution_count": null,
   "metadata": {},
   "outputs": [],
   "source": []
  }
 ],
 "metadata": {
  "kernelspec": {
   "display_name": "Python 3",
   "language": "python",
   "name": "python3"
  },
  "language_info": {
   "codemirror_mode": {
    "name": "ipython",
    "version": 3
   },
   "file_extension": ".py",
   "mimetype": "text/x-python",
   "name": "python",
   "nbconvert_exporter": "python",
   "pygments_lexer": "ipython3",
   "version": "3.7.0"
  }
 },
 "nbformat": 4,
 "nbformat_minor": 2
}
