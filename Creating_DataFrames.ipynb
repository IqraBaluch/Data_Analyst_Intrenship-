{
 "cells": [
  {
   "cell_type": "markdown",
   "metadata": {},
   "source": [
    "# Creating DataFrames"
   ]
  },
  {
   "cell_type": "markdown",
   "metadata": {},
   "source": [
    "## List of dictionaries"
   ]
  },
  {
   "cell_type": "code",
   "execution_count": 1,
   "metadata": {},
   "outputs": [],
   "source": [
    "import pandas as pd"
   ]
  },
  {
   "cell_type": "markdown",
   "metadata": {},
   "source": [
    "#### Create a list of dictionaries with the new data called avocados_list."
   ]
  },
  {
   "cell_type": "code",
   "execution_count": 10,
   "metadata": {},
   "outputs": [],
   "source": [
    "student_list=[\n",
    "    { 'course':'Data Analyst', 'days':'TTS', 'name':'Iqra'},\n",
    "    {'course':'Data Science', 'days':'MWF','name':'Qasim'},\n",
    "    { 'course':'Data Analyst', 'days':'TTS', 'name':'ABC'},\n",
    "    { 'course':'Science', 'days':'MWF', 'name':'CBA'},\n",
    "    { 'course':'Computer', 'days':'TTS', 'name':'ADV'},\n",
    "    { 'course':'Data Analyst', 'days':'MWF', 'name':'ALEX'},\n",
    "    { 'course':'Education', 'days':'TTS', 'name':'ALLEN'},\n",
    "    { 'course':'Data Analyst', 'days':'MWF', 'name':'Roxi'},\n",
    "    { 'course':'Data Science', 'days':'TTS', 'name':'Fily'},\n",
    "    { 'course':'Data Analyst', 'days':'MWF', 'name':'Danm'}\n",
    "]\n"
   ]
  },
  {
   "cell_type": "markdown",
   "metadata": {},
   "source": [
    "# Convert list into DataFrame"
   ]
  },
  {
   "cell_type": "code",
   "execution_count": 11,
   "metadata": {},
   "outputs": [],
   "source": [
    "student_data = pd.DataFrame(student_list)"
   ]
  },
  {
   "cell_type": "markdown",
   "metadata": {},
   "source": [
    "# Print the new DataFrame"
   ]
  },
  {
   "cell_type": "code",
   "execution_count": 12,
   "metadata": {},
   "outputs": [
    {
     "name": "stdout",
     "output_type": "stream",
     "text": [
      "         course days   name\n",
      "0  Data Analyst  TTS   Iqra\n",
      "1  Data Science  MWF  Qasim\n",
      "2  Data Analyst  TTS    ABC\n",
      "3       Science  MWF    CBA\n",
      "4      Computer  TTS    ADV\n",
      "5  Data Analyst  MWF   ALEX\n",
      "6     Education  TTS  ALLEN\n",
      "7  Data Analyst  MWF   Roxi\n",
      "8  Data Science  TTS   Fily\n",
      "9  Data Analyst  MWF   Danm\n"
     ]
    }
   ],
   "source": [
    "print(student_data)"
   ]
  },
  {
   "cell_type": "markdown",
   "metadata": {},
   "source": [
    "***"
   ]
  },
  {
   "cell_type": "markdown",
   "metadata": {},
   "source": [
    "# Dictionary of lists"
   ]
  },
  {
   "cell_type": "code",
   "execution_count": 16,
   "metadata": {},
   "outputs": [],
   "source": [
    "sudent_dict = {\n",
    "    'Name' : ['Iqra', 'Qasim' , 'Alix', 'Alen'],\n",
    "    'ID' : [101, 102, 103, 104],\n",
    "              \n",
    "    'Days' : ['TTS', 'MWF', 'TTS', 'TTS']\n",
    "}"
   ]
  },
  {
   "cell_type": "code",
   "execution_count": 17,
   "metadata": {},
   "outputs": [],
   "source": [
    "data = pd.DataFrame(sudent_dict)"
   ]
  },
  {
   "cell_type": "code",
   "execution_count": 18,
   "metadata": {},
   "outputs": [
    {
     "name": "stdout",
     "output_type": "stream",
     "text": [
      "    Name   ID Days\n",
      "0   Iqra  101  TTS\n",
      "1  Qasim  102  MWF\n",
      "2   Alix  103  TTS\n",
      "3   Alen  104  TTS\n"
     ]
    }
   ],
   "source": [
    "print(data)"
   ]
  },
  {
   "cell_type": "code",
   "execution_count": null,
   "metadata": {},
   "outputs": [],
   "source": []
  }
 ],
 "metadata": {
  "kernelspec": {
   "display_name": "Python 3",
   "language": "python",
   "name": "python3"
  },
  "language_info": {
   "codemirror_mode": {
    "name": "ipython",
    "version": 3
   },
   "file_extension": ".py",
   "mimetype": "text/x-python",
   "name": "python",
   "nbconvert_exporter": "python",
   "pygments_lexer": "ipython3",
   "version": "3.7.0"
  }
 },
 "nbformat": 4,
 "nbformat_minor": 2
}
